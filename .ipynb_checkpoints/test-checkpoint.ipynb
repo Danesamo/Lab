{
 "cells": [
  {
   "cell_type": "code",
   "execution_count": 1,
   "id": "8f10d0d5",
   "metadata": {},
   "outputs": [
    {
     "name": "stdout",
     "output_type": "stream",
     "text": [
      "This is my lab. Please, do not disturb!\n",
      "Thanks!\n",
      "8\n",
      "15\n",
      "2\n",
      "2\n",
      "1.6666666666666667\n"
     ]
    }
   ],
   "source": [
    "x = \"This is my lab.\"\n",
    "y = \"Please, do not disturb!\"\n",
    "z = \"Thanks!\"\n",
    "print (x,y)\n",
    "print (z)\n",
    "a = 5\n",
    "b = 3\n",
    "\n",
    "print(a + b)\n",
    "print(a * b)\n",
    "print(a - b)\n",
    "print (a % b)\n",
    "print (a / b)"
   ]
  },
  {
   "cell_type": "code",
   "execution_count": null,
   "id": "9e53f32d",
   "metadata": {},
   "outputs": [],
   "source": []
  }
 ],
 "metadata": {
  "kernelspec": {
   "display_name": "Python 3 (ipykernel)",
   "language": "python",
   "name": "python3"
  },
  "language_info": {
   "codemirror_mode": {
    "name": "ipython",
    "version": 3
   },
   "file_extension": ".py",
   "mimetype": "text/x-python",
   "name": "python",
   "nbconvert_exporter": "python",
   "pygments_lexer": "ipython3",
   "version": "3.10.9"
  }
 },
 "nbformat": 4,
 "nbformat_minor": 5
}

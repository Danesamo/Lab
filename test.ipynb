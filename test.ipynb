{
 "cells": [
  {
   "cell_type": "code",
   "execution_count": 2,
   "id": "8f10d0d5",
   "metadata": {},
   "outputs": [
    {
     "name": "stdout",
     "output_type": "stream",
     "text": [
      "This is my lab. Please, do not disturb!\n",
      "8\n",
      "15\n",
      "2\n",
      "2\n",
      "1\n"
     ]
    }
   ],
   "source": [
    "x = \"This is my lab.\"\n",
    "y = \"Please, do not disturb!\"\n",
    "\n",
    "# v = \"you can play on the slide\"\n",
    "# w = \"you can now play football\"\n",
    "# r = \"you've to be mature now.\"\n",
    "print (x,y)\n",
    "\n",
    "a = 5\n",
    "b = 3\n",
    "\n",
    "print(a + b)\n",
    "print(a * b)\n",
    "print(a - b)\n",
    "print (a % b)\n",
    "print (int(a / b))\n",
    "\n",
    "# #access to some hobbies\n",
    "\n",
    "# h = input (\"please enter your age\")\n",
    "\n",
    "# if (h>0 and h<=10):\n",
    "#     print (v)\n",
    "# elif (h>10 and h<=21):\n",
    "#         print (w)\n",
    "# else:\n",
    "#         print (r)\n",
    "# #     else:\n",
    "# #     none\n",
    "\n"
   ]
  },
  {
   "cell_type": "code",
   "execution_count": null,
   "id": "9e53f32d",
   "metadata": {},
   "outputs": [],
   "source": []
  }
 ],
 "metadata": {
  "kernelspec": {
   "display_name": "Python 3 (ipykernel)",
   "language": "python",
   "name": "python3"
  },
  "language_info": {
   "codemirror_mode": {
    "name": "ipython",
    "version": 3
   },
   "file_extension": ".py",
   "mimetype": "text/x-python",
   "name": "python",
   "nbconvert_exporter": "python",
   "pygments_lexer": "ipython3",
   "version": "3.10.9"
  }
 },
 "nbformat": 4,
 "nbformat_minor": 5
}
